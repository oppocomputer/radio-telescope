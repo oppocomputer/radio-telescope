{
 "cells": [
  {
   "cell_type": "code",
   "execution_count": 23,
   "id": "a00b7164",
   "metadata": {
    "scrolled": false
   },
   "outputs": [],
   "source": [
    "from calculations import *\n",
    "from calculations import plot_polar\n",
    "import sys\n",
    "import time\n",
    "import numpy as np\n",
    "import matplotlib.pyplot as plt\n",
    "from beyond.dates import Date, timedelta\n",
    "from beyond.io.tle import Tle\n",
    "from beyond.frames import create_station\n",
    "from beyond.config import config\n",
    "\n",
    "#import pip\n",
    "#pip.main(['install','beyond'])"
   ]
  },
  {
   "cell_type": "markdown",
   "id": "caaf5804",
   "metadata": {},
   "source": [
    "## Configuration"
   ]
  },
  {
   "cell_type": "code",
   "execution_count": 24,
   "id": "0954ce53",
   "metadata": {},
   "outputs": [],
   "source": [
    "tle_file=\"iss.tle\"\n",
    "gps = np.array([51.03594,5.72767,34])"
   ]
  },
  {
   "cell_type": "code",
   "execution_count": 25,
   "id": "4d2ebb10",
   "metadata": {},
   "outputs": [],
   "source": [
    "azimuths, elevations = [], [] #Define arrays for storing angles"
   ]
  },
  {
   "cell_type": "code",
   "execution_count": 26,
   "id": "98268ebc",
   "metadata": {},
   "outputs": [
    {
     "name": "stderr",
     "output_type": "stream",
     "text": [
      "A frame with the name 'Radio Telescope' is already registered. Overriding\n"
     ]
    }
   ],
   "source": [
    "station = create_station('Radio Telescope', gps)"
   ]
  },
  {
   "cell_type": "code",
   "execution_count": 27,
   "id": "6b986532",
   "metadata": {
    "scrolled": true
   },
   "outputs": [
    {
     "name": "stdout",
     "output_type": "stream",
     "text": [
      "[9.01328168e-01 1.92787324e+00 1.96700000e-04 1.37811198e-02\n",
      " 2.68502674e+00 1.13028708e-03]\n"
     ]
    }
   ],
   "source": [
    "tle = Tle(\"\"\"ISS (ZARYA)\n",
    "1 25544U 98067A   16086.49419020  .00003976  00000-0  66962-4 0  9998\n",
    "2 25544  51.6423 110.4590 0001967   0.7896 153.8407 15.54256299992114\"\"\").orbit()\n",
    "\n",
    "#tle = parse_tle(tle_file)\n",
    "\n",
    "print(tle)"
   ]
  },
  {
   "cell_type": "markdown",
   "id": "bdeb28af",
   "metadata": {},
   "source": [
    "## Calculation"
   ]
  },
  {
   "cell_type": "code",
   "execution_count": 30,
   "id": "d269c80f",
   "metadata": {
    "scrolled": true
   },
   "outputs": [
    {
     "name": "stdout",
     "output_type": "stream",
     "text": [
      "          Time     Elev    Azimuth  Distance Radial Velocity\n",
      "=========================================================\n",
      "VIS     12:22:01   267.0     0.0     2063.3    -4608.8\n",
      "        12:22:30   262.1     1.2     1934.7    -4139.3\n",
      "        12:23:00   256.4     2.4     1819.0    -3554.3\n",
      "        12:23:30   250.0     3.4     1722.6    -2853.5\n",
      "        12:24:00   242.9     4.2     1649.0    -2038.1\n",
      "        12:24:30   235.2     4.8     1601.3    -1125.8\n",
      "        12:25:00   227.2     5.0     1582.0     -153.7\n",
      "MAX     12:25:05   225.8     5.0     1581.7       19.8\n",
      "        12:25:30   219.2     4.9     1592.2      826.6\n",
      "        12:26:00   211.4     4.5     1631.2     1761.5\n",
      "        12:26:30   204.0     3.7     1697.0     2608.6\n",
      "        12:27:00   197.4     2.7     1786.6     3344.1\n",
      "        12:27:30   191.5     1.6     1896.4     3962.7\n",
      "        12:28:00   186.2     0.4     2023.2     4471.3\n",
      "LOSS    12:28:10   184.6    -0.0     2070.8     4625.2\n",
      "\n",
      "VIS     04:44:49   199.1     0.0     2068.6    -5997.5\n",
      "        04:45:00   197.9     0.6     2003.8    -5916.7\n",
      "        04:45:30   194.1     2.3     1830.2    -5643.7\n",
      "        04:46:00   189.5     4.0     1666.1    -5275.9\n",
      "        04:46:30   183.8     5.9     1514.9    -4780.0\n",
      "        04:47:00   177.0     7.7     1381.0    -4115.8\n",
      "        04:47:30   168.7     9.4     1270.1    -3244.0\n",
      "        04:48:00   159.0    10.9     1188.7    -2146.2\n",
      "        04:48:30   148.1    11.7     1143.2     -856.4\n",
      "MAX     04:48:48   141.1    11.9     1135.2      -13.8\n",
      "        04:49:00   136.7    11.8     1138.2      522.2\n",
      "        04:49:30   125.6    11.1     1174.0     1846.1\n",
      "        04:50:00   115.5     9.8     1247.2     2997.2\n",
      "        04:50:30   106.9     8.1     1351.6     3925.0\n",
      "        04:51:00    99.7     6.3     1480.5     4637.7\n",
      "        04:51:30    93.8     4.4     1628.0     5171.8\n",
      "        04:52:00    89.0     2.6     1789.4     5568.5\n",
      "        04:52:30    85.0     0.9     1961.1     5863.0\n",
      "LOSS    04:52:47    83.1    -0.0     2061.0     5994.1\n",
      "\n",
      "VIS     06:18:16   241.0     0.0     2065.4    -7013.2\n",
      "        06:18:30   240.7     0.9     1970.3    -7006.5\n",
      "        06:19:00   239.8     3.0     1760.5    -6981.0\n",
      "        06:19:30   238.6     5.4     1551.7    -6935.3\n",
      "        06:20:00   237.1     8.2     1344.7    -6857.2\n",
      "        06:20:30   234.9    11.7     1140.8    -6723.5\n",
      "        06:21:00   231.6    16.3      942.4    -6485.2\n",
      "        06:21:30   226.2    22.6      753.9    -6029.7\n",
      "        06:22:00   216.4    31.6      585.4    -5081.8\n",
      "        06:22:30   195.4    43.6      459.8    -3046.8\n",
      "MAX     06:22:57   159.0    50.1      417.2       -3.5\n",
      "        06:23:00   153.7    50.0      417.9      417.6\n",
      "        06:23:30   116.3    40.9      482.0     3629.8\n",
      "        06:24:00    98.8    29.3      620.1     5358.4\n",
      "        06:24:30    90.3    20.9      794.3     6158.8\n",
      "        06:25:00    85.6    15.1      985.6     6550.3\n",
      "        06:25:30    82.6    10.8     1185.5     6758.7\n",
      "        06:26:00    80.6     7.5     1390.2     6877.0\n",
      "        06:26:30    79.1     4.8     1597.6     6946.2\n",
      "        06:27:00    78.0     2.4     1806.7     6986.5\n",
      "        06:27:30    77.2     0.4     2016.6     7008.3\n",
      "LOSS    06:27:36    77.0    -0.0     2060.5     7011.1\n",
      "\n",
      "VIS     07:52:49   269.1     0.0     2062.0    -7049.9\n",
      "        07:53:00   269.2     0.7     1983.7    -7049.1\n",
      "        07:53:30   269.6     2.8     1772.3    -7040.1\n",
      "        07:54:00   270.0     5.2     1561.4    -7017.8\n",
      "        07:54:30   270.5     8.1     1351.5    -6974.6\n",
      "        07:55:00   271.2    11.7     1143.3    -6895.9\n",
      "        07:55:30   272.1    16.4      938.4    -6749.3\n",
      "        07:56:00   273.6    23.1      739.8    -6455.8\n",
      "        07:56:30   276.4    33.9      554.7    -5793.6\n",
      "        07:57:00   284.1    52.9      402.3    -4094.9\n",
      "        07:57:30   348.7    78.3      331.7     -238.9\n",
      "MAX     07:57:31   358.3    78.5      331.5        0.1\n",
      "        07:58:00    71.0    55.5      390.3     3814.8\n",
      "        07:58:30    79.8    35.3      537.3     5686.8\n",
      "        07:59:00    82.9    24.0      720.3     6411.5\n",
      "        07:59:30    84.4    16.9      918.0     6728.1\n",
      "        08:00:00    85.4    12.1     1122.4     6884.6\n",
      "        08:00:30    86.1     8.4     1330.3     6968.3\n",
      "        08:01:00    86.6     5.5     1540.1     7014.1\n",
      "        08:01:30    87.0     3.0     1750.9     7038.0\n",
      "        08:02:00    87.4     0.9     1962.2     7048.1\n",
      "LOSS    08:02:14    87.5    -0.0     2062.2     7049.4\n",
      "\n",
      "VIS     09:27:28   282.3     0.0     2060.4    -7040.8\n",
      "        09:27:30   282.3     0.2     2043.6    -7040.4\n",
      "        09:28:00   281.8     2.2     1832.5    -7029.1\n",
      "        09:28:30   281.1     4.5     1622.0    -7003.8\n",
      "        09:29:00   280.3     7.2     1412.5    -6956.8\n",
      "        09:29:30   279.0    10.5     1205.0    -6873.4\n",
      "        09:30:00   277.2    14.8     1000.8    -6723.2\n",
      "        09:30:30   274.3    20.6      802.9    -6435.8\n",
      "        09:31:00   269.0    29.4      617.8    -5828.3\n",
      "        09:31:30   256.8    43.4      461.2    -4400.6\n",
      "        09:32:00   218.4    60.3      371.7    -1228.2\n",
      "MAX     09:32:09   197.8    62.0      366.3        3.5\n",
      "        09:32:30   155.3    54.0      397.5     2811.1\n",
      "        09:33:00   132.3    36.8      521.7     5155.9\n",
      "        09:33:30   124.0    25.3      693.3     6143.9\n",
      "        09:34:00   119.9    18.0      885.0     6581.6\n",
      "        09:34:30   117.5    12.9     1086.0     6798.5\n",
      "        09:35:00   116.0     9.1     1291.9     6915.4\n",
      "        09:35:30   114.9     6.0     1500.4     6981.2\n",
      "        09:36:00   114.1     3.5     1710.5     7018.0\n",
      "        09:36:30   113.6     1.3     1921.3     7036.9\n",
      "LOSS    09:36:51   113.3    -0.0     2065.9     7042.7\n",
      "\n",
      "VIS     11:02:11   279.3     0.0     2061.1    -6328.2\n",
      "        11:02:30   277.5     1.1     1942.3    -6221.3\n",
      "        11:03:00   274.1     3.0     1758.9    -5999.8\n",
      "        11:03:30   269.8     5.0     1583.2    -5690.8\n",
      "        11:04:00   264.5     7.1     1418.7    -5256.5\n",
      "        11:04:30   257.7     9.4     1269.7    -4644.1\n",
      "        11:05:00   249.2    11.7     1142.5    -3789.2\n",
      "        11:05:30   238.6    13.8     1045.3    -2637.6\n",
      "        11:06:00   226.2    15.2      987.2    -1197.6\n",
      "MAX     11:06:23   216.0    15.5      973.6       13.5\n",
      "        11:06:30   212.7    15.5      975.1      403.9\n",
      "        11:07:00   199.6    14.6     1010.8     1948.2\n",
      "        11:07:30   188.0    12.8     1089.5     3251.1\n",
      "        11:08:00   178.5    10.6     1202.8     4249.3\n",
      "        11:08:30   170.8     8.3     1341.7     4974.1\n",
      "        11:09:00   164.8     6.1     1499.1     5489.3\n",
      "        11:09:30   160.1     4.0     1669.6     5854.7\n"
     ]
    }
   ],
   "source": [
    "print(\"          Time     Elev    Azimuth  Distance Radial Velocity\")\n",
    "print(\"=========================================================\")\n",
    "azimuths, elevations = [], []\n",
    "for orb in station.visibility(tle, start=Date.now(), stop=timedelta(hours=24), step=timedelta(seconds=30), events=True):\n",
    "    #azimuth,elevation = angle_parser(orb.phi,orb.theta) \n",
    "    #azimuths.append(azimuth)\n",
    "    #elevations.append(90 - elevation)\n",
    "    \n",
    "    elevation = np.degrees(orb.phi)\n",
    "    azimuth = np.degrees(-orb.theta) % 360\n",
    "    azimuths.append(azimuth)\n",
    "    elevations.append(90 - elevation)\n",
    "    \n",
    "    \n",
    "    r = orb.r / 1000.\n",
    "    try:\n",
    "        event = event_parser(orb.event)\n",
    "    except:\n",
    "        event = \"\"\n",
    "            \n",
    "    print(\"{event:7} {orb.date:%H:%M:%S} {azim:7.1f} {elev:7.1f} {r:10.1f} {orb.r_dot:10.1f}\".format(orb=orb, r=r, azim=azimuth, elev=elevation, event=event if orb.event is not None else \"\"))\n",
    "    \n",
    "    if orb.event and orb.event.info.startswith(\"LOS\"):\n",
    "        print() #Stop after one pass\n",
    "        #break\n",
    "    \n"
   ]
  },
  {
   "cell_type": "code",
   "execution_count": 22,
   "id": "d4dd8cfa",
   "metadata": {
    "scrolled": false
   },
   "outputs": [
    {
     "data": {
      "image/png": "[encoded data removed]",
      "text/plain": [
       "<Figure size 432x288 with 1 Axes>"
      ]
     },
     "metadata": {
      "needs_background": "light"
     },
     "output_type": "display_data"
    }
   ],
   "source": [
    "plot_polar(azimuths,elevations)"
   ]
  },
  {
   "cell_type": "code",
   "execution_count": null,
   "id": "77ec4394",
   "metadata": {},
   "outputs": [],
   "source": []
  }
 ],
 "metadata": {
  "kernelspec": {
   "display_name": "Python 3 (ipykernel)",
   "language": "python",
   "name": "python3"
  },
  "language_info": {
   "codemirror_mode": {
    "name": "ipython",
    "version": 3
   },
   "file_extension": ".py",
   "mimetype": "text/x-python",
   "name": "python",
   "nbconvert_exporter": "python",
   "pygments_lexer": "ipython3",
   "version": "3.9.7"
  }
 },
 "nbformat": 4,
 "nbformat_minor": 5
}
