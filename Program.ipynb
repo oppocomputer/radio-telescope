{
 "cells": [
  {
   "cell_type": "code",
   "execution_count": 1,
   "source": [
    "try:\r\n",
    "    from calculations import *\r\n",
    "    import sys\r\n",
    "    import time\r\n",
    "    import numpy as np\r\n",
    "    import matplotlib.pyplot as plt\r\n",
    "    from beyond.dates import Date, timedelta\r\n",
    "    from beyond.io.tle import Tle\r\n",
    "    from beyond.frames import create_station\r\n",
    "    from beyond.config import config\r\n",
    "except:\r\n",
    "    import pip\r\n",
    "    pip.main(['install','beyond'])"
   ],
   "outputs": [],
   "metadata": {
    "scrolled": false
   }
  },
  {
   "cell_type": "markdown",
   "source": [
    "## Configuration"
   ],
   "metadata": {}
  },
  {
   "cell_type": "code",
   "execution_count": 9,
   "source": [
    "tle_file=\"iss.tle\"\r\n",
    "gps = np.array([51.03594,5.72767,34])\r\n",
    "timestep = 30 #accuracy of angles\r\n",
    "terminal_output = True\r\n",
    "file_output = True"
   ],
   "outputs": [],
   "metadata": {}
  },
  {
   "cell_type": "code",
   "execution_count": 3,
   "source": [
    "azimuths, elevations = [], [] #Define arrays for storing angles"
   ],
   "outputs": [],
   "metadata": {}
  },
  {
   "cell_type": "code",
   "execution_count": 4,
   "source": [
    "station = create_station('Radio Telescope', gps)"
   ],
   "outputs": [],
   "metadata": {}
  },
  {
   "cell_type": "code",
   "execution_count": 5,
   "source": [
    "tle = Tle(\"\"\"ISS (ZARYA)\r\n",
    "1 25544U 98067A   16086.49419020  .00003976  00000-0  66962-4 0  9998\r\n",
    "2 25544  51.6423 110.4590 0001967   0.7896 153.8407 15.54256299992114\"\"\").orbit()\r\n",
    "\r\n",
    "#tle = parse_tle(tle_file)\r\n",
    "\r\n",
    "print(tle)"
   ],
   "outputs": [
    {
     "output_type": "stream",
     "name": "stdout",
     "text": [
      "[9.01328168e-01 1.92787324e+00 1.96700000e-04 1.37811198e-02\n",
      " 2.68502674e+00 1.13028708e-03]\n"
     ]
    }
   ],
   "metadata": {
    "scrolled": true
   }
  },
  {
   "cell_type": "markdown",
   "source": [
    "## Calculation"
   ],
   "metadata": {}
  },
  {
   "cell_type": "code",
   "execution_count": 10,
   "source": [
    "print(\"          Time     Elev    Azimuth  Distance Radial Velocity\")\r\n",
    "print(\"=========================================================\")\r\n",
    "azimuths, elevations = [], []\r\n",
    "for orbit in station.visibility(tle, start=Date.now(), stop=timedelta(hours=12), step=timedelta(seconds=timestep), events=True):\r\n",
    "\r\n",
    "    #azimuth,elevation = angle_parser(orb.phi,orb.theta) \r\n",
    "    #azimuths.append(azimuth)\r\n",
    "    #elevations.append(90 - elevation)\r\n",
    "    \r\n",
    "    elevation = np.degrees(orbit.phi)\r\n",
    "    azimuth = np.degrees(-orbit.theta) % 360\r\n",
    "    \r\n",
    "    \r\n",
    "    azimuths.append(azimuth)\r\n",
    "    elevations.append(90 - elevation)\r\n",
    "    \r\n",
    "\r\n",
    "    \r\n",
    "    r = orbit.r / 1000.\r\n",
    "    #try:\r\n",
    "    #    event = event_parser(orbit.event)\r\n",
    "    #except:\r\n",
    "    #    event = \"\"\r\n",
    "            \r\n",
    "\r\n",
    "\r\n",
    "    if terminal_output: print(\"{event:7} {orb.date:%H:%M:%S} {elev:7.1f} {azim:7.1f} {r:10.1f} {orb.r_dot:10.1f}\".format(orb=orbit, r=r, azim=azimuth, elev=elevation, event=orbit.event.info if orbit.event is not None else \"\"))\r\n",
    "    \r\n",
    "    if orbit.event and orbit.event.info.startswith(\"LOS\"):\r\n",
    "        filename = Date.now().str + \".csv\"\r\n",
    "        if file_output:\r\n",
    "            file = open(filename, 'w')\r\n",
    "            file.print(\"hello\")\r\n",
    "            file.close()\r\n",
    "        print() #Stop after one pass\r\n",
    "        break\r\n",
    "    \r\n",
    "iteration = 0\r\n",
    "programs = 0"
   ],
   "outputs": [
    {
     "output_type": "stream",
     "name": "stdout",
     "text": [
      "          Time     Elev    Azimuth  Distance Radial Velocity\n",
      "=========================================================\n",
      "AOS     01:48:27     0.0   194.5     2067.4    -5781.5\n",
      "        01:48:38     0.6   193.3     2006.6    -5689.2\n",
      "        01:49:08     2.2   189.1     1840.5    -5372.5\n",
      "        01:49:38     3.8   184.2     1685.3    -4953.6\n",
      "        01:50:08     5.5   178.3     1544.6    -4401.8\n",
      "        01:50:38     7.1   171.2     1422.9    -3683.8\n",
      "        01:51:08     8.5   162.9     1325.5    -2774.8\n",
      "        01:51:38     9.6   153.4     1258.3    -1676.9\n",
      "        01:52:08    10.1   143.1     1226.3     -439.8\n",
      "MAX     01:52:17    10.2   139.6     1224.1      -15.3\n",
      "        01:52:38    10.0   132.6     1232.4      837.7\n",
      "        01:53:08     9.3   122.5     1275.8     2040.4\n",
      "        01:53:38     8.1   113.3     1353.2     3082.8\n",
      "        01:54:08     6.6   105.4     1458.9     3931.4\n",
      "        01:54:38     4.9    98.7     1587.2     4595.0\n",
      "        01:55:08     3.2    93.2     1733.0     5102.8\n",
      "        01:55:38     1.6    88.5     1892.1     5487.7\n",
      "LOS     01:56:07    -0.0    84.7     2059.5     5776.3\n"
     ]
    },
    {
     "output_type": "error",
     "ename": "TypeError",
     "evalue": "Unknown operation with <class 'str'>",
     "traceback": [
      "\u001b[1;31m---------------------------------------------------------------------------\u001b[0m",
      "\u001b[1;31mTypeError\u001b[0m                                 Traceback (most recent call last)",
      "\u001b[1;32m~\\AppData\\Local\\Temp/ipykernel_19124/2036778743.py\u001b[0m in \u001b[0;36m<module>\u001b[1;34m\u001b[0m\n\u001b[0;32m     28\u001b[0m \u001b[1;33m\u001b[0m\u001b[0m\n\u001b[0;32m     29\u001b[0m     \u001b[1;32mif\u001b[0m \u001b[0morbit\u001b[0m\u001b[1;33m.\u001b[0m\u001b[0mevent\u001b[0m \u001b[1;32mand\u001b[0m \u001b[0morbit\u001b[0m\u001b[1;33m.\u001b[0m\u001b[0mevent\u001b[0m\u001b[1;33m.\u001b[0m\u001b[0minfo\u001b[0m\u001b[1;33m.\u001b[0m\u001b[0mstartswith\u001b[0m\u001b[1;33m(\u001b[0m\u001b[1;34m\"LOS\"\u001b[0m\u001b[1;33m)\u001b[0m\u001b[1;33m:\u001b[0m\u001b[1;33m\u001b[0m\u001b[1;33m\u001b[0m\u001b[0m\n\u001b[1;32m---> 30\u001b[1;33m         \u001b[0mfilename\u001b[0m \u001b[1;33m=\u001b[0m \u001b[0mDate\u001b[0m\u001b[1;33m.\u001b[0m\u001b[0mnow\u001b[0m\u001b[1;33m(\u001b[0m\u001b[1;33m)\u001b[0m \u001b[1;33m+\u001b[0m \u001b[1;34m\".csv\"\u001b[0m\u001b[1;33m\u001b[0m\u001b[1;33m\u001b[0m\u001b[0m\n\u001b[0m\u001b[0;32m     31\u001b[0m         \u001b[1;32mif\u001b[0m \u001b[0mfile_output\u001b[0m\u001b[1;33m:\u001b[0m\u001b[1;33m\u001b[0m\u001b[1;33m\u001b[0m\u001b[0m\n\u001b[0;32m     32\u001b[0m             \u001b[0mfile\u001b[0m \u001b[1;33m=\u001b[0m \u001b[0mopen\u001b[0m\u001b[1;33m(\u001b[0m\u001b[0mfilename\u001b[0m\u001b[1;33m,\u001b[0m \u001b[1;34m'w'\u001b[0m\u001b[1;33m)\u001b[0m\u001b[1;33m\u001b[0m\u001b[1;33m\u001b[0m\u001b[0m\n",
      "\u001b[1;32m~\\AppData\\Local\\Programs\\Python\\Python39\\lib\\site-packages\\beyond\\dates\\date.py\u001b[0m in \u001b[0;36m__add__\u001b[1;34m(self, other)\u001b[0m\n\u001b[0;32m    242\u001b[0m             \u001b[0mdays\u001b[0m\u001b[1;33m,\u001b[0m \u001b[0msec\u001b[0m \u001b[1;33m=\u001b[0m \u001b[0mdivmod\u001b[0m\u001b[1;33m(\u001b[0m\u001b[0mother\u001b[0m\u001b[1;33m.\u001b[0m\u001b[0mtotal_seconds\u001b[0m\u001b[1;33m(\u001b[0m\u001b[1;33m)\u001b[0m \u001b[1;33m+\u001b[0m \u001b[0mself\u001b[0m\u001b[1;33m.\u001b[0m\u001b[0ms\u001b[0m\u001b[1;33m,\u001b[0m \u001b[1;36m86400\u001b[0m\u001b[1;33m)\u001b[0m\u001b[1;33m\u001b[0m\u001b[1;33m\u001b[0m\u001b[0m\n\u001b[0;32m    243\u001b[0m         \u001b[1;32melse\u001b[0m\u001b[1;33m:\u001b[0m\u001b[1;33m\u001b[0m\u001b[1;33m\u001b[0m\u001b[0m\n\u001b[1;32m--> 244\u001b[1;33m             \u001b[1;32mraise\u001b[0m \u001b[0mTypeError\u001b[0m\u001b[1;33m(\u001b[0m\u001b[1;34mf\"Unknown operation with {type(other)}\"\u001b[0m\u001b[1;33m)\u001b[0m\u001b[1;33m\u001b[0m\u001b[1;33m\u001b[0m\u001b[0m\n\u001b[0m\u001b[0;32m    245\u001b[0m \u001b[1;33m\u001b[0m\u001b[0m\n\u001b[0;32m    246\u001b[0m         \u001b[1;32mreturn\u001b[0m \u001b[0mself\u001b[0m\u001b[1;33m.\u001b[0m\u001b[0m__class__\u001b[0m\u001b[1;33m(\u001b[0m\u001b[0mself\u001b[0m\u001b[1;33m.\u001b[0m\u001b[0md\u001b[0m \u001b[1;33m+\u001b[0m \u001b[0mint\u001b[0m\u001b[1;33m(\u001b[0m\u001b[0mdays\u001b[0m\u001b[1;33m)\u001b[0m\u001b[1;33m,\u001b[0m \u001b[0msec\u001b[0m\u001b[1;33m,\u001b[0m \u001b[0mscale\u001b[0m\u001b[1;33m=\u001b[0m\u001b[0mself\u001b[0m\u001b[1;33m.\u001b[0m\u001b[0mscale\u001b[0m\u001b[1;33m)\u001b[0m\u001b[1;33m\u001b[0m\u001b[1;33m\u001b[0m\u001b[0m\n",
      "\u001b[1;31mTypeError\u001b[0m: Unknown operation with <class 'str'>"
     ]
    }
   ],
   "metadata": {
    "scrolled": true
   }
  },
  {
   "cell_type": "code",
   "execution_count": 7,
   "source": [
    "plot_polar(azimuths,elevations)"
   ],
   "outputs": [
    {
     "output_type": "display_data",
     "data": {
      "image/png": "[encoded data removed]",
      "text/plain": [
       "<Figure size 432x288 with 1 Axes>"
      ]
     },
     "metadata": {
      "needs_background": "light"
     }
    }
   ],
   "metadata": {
    "scrolled": false
   }
  }
 ],
 "metadata": {
  "kernelspec": {
   "name": "python3",
   "display_name": "Python 3.9.6 64-bit"
  },
  "language_info": {
   "codemirror_mode": {
    "name": "ipython",
    "version": 3
   },
   "file_extension": ".py",
   "mimetype": "text/x-python",
   "name": "python",
   "nbconvert_exporter": "python",
   "pygments_lexer": "ipython3",
   "version": "3.9.6"
  },
  "interpreter": {
   "hash": "f8cccdae3c3799f0ca206dd447474d3b650c2dd095e13996f83e3a01513ad460"
  }
 },
 "nbformat": 4,
 "nbformat_minor": 5
}