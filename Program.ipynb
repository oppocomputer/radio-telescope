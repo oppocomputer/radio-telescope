{
 "cells": [
  {
   "cell_type": "code",
   "execution_count": 1,
   "metadata": {
    "scrolled": false
   },
   "outputs": [],
   "source": [
    "try:\n",
    "    from calculations import *\n",
    "    import os.path\n",
    "    import os\n",
    "    from pathlib import Path\n",
    "    from itertools import groupby\n",
    "    import numpy as np\n",
    "    from beyond.dates import Date, timedelta\n",
    "    from beyond.io.tle import Tle\n",
    "    from beyond.frames import create_station\n",
    "    from beyond.config import config\n",
    "    import csv\n",
    "except:\n",
    "    import pip\n",
    "    pip.main(['install','beyond'])"
   ]
  },
  {
   "cell_type": "markdown",
   "metadata": {},
   "source": [
    "## Configuration"
   ]
  },
  {
   "cell_type": "code",
   "execution_count": 2,
   "metadata": {},
   "outputs": [],
   "source": [
    "gps = np.array([51.03594,5.72767,34]) #Latitude, Longitude, Height in meters\n",
    "tle_location = r'tle' #TLE files\n",
    "output_location = r'instructions' #Output location for orbits\n",
    "timestep = 15 #How many seconds per calculation step?\n",
    "iterations = 2 #How many passes?\n",
    "#minimum_angle = None #FIX\n",
    "minimum_angle = 5\n",
    "multiverbose = True\n",
    "terminal_output = False\n",
    "verbose = True #Extra info about pass\n",
    "file_output = True"
   ]
  },
  {
   "cell_type": "markdown",
   "id": "147e31d4",
   "metadata": {},
   "source": [
    "## Initialization"
   ]
  },
  {
   "cell_type": "code",
   "execution_count": 3,
   "id": "dea954a3",
   "metadata": {},
   "outputs": [],
   "source": [
    "#Create tracking station\n",
    "station = create_station('Radio Telescope', gps)\n",
    "\n",
    "#Create paths to file locations\n",
    "cwd = Path.cwd()\n",
    "instructions_src = (cwd / output_location).resolve()\n",
    "tle_src = (cwd / tle_location).resolve()\n",
    "if not os.path.isdir(tle_src): raise ValueError(\"Error: %s is not a valid directory\"%(tle_src))\n",
    "elif not os.path.isdir(instructions_src): raise ValueError(\"Error: %s is not a valid directory\"%(instructions_src))\n",
    "\n",
    "#Create output folders\n",
    "for file in os.listdir(tle_src):\n",
    "    if not os.path.isdir((instructions_src / file[0:-4]).resolve()):\n",
    "        os.mkdir((instructions_src / file[0:-4]).resolve())\n",
    "        #print(file[0:-4])\n",
    "\n",
    "#Create dictionary with tle files\n",
    "tle_files={}\n",
    "for tle_file in os.listdir(tle_src):\n",
    "    tle_files[tle_file]=Tle(parse_tle((tle_src / tle_file).resolve())).orbit() "
   ]
  },
  {
   "cell_type": "markdown",
   "id": "17da36f9",
   "metadata": {},
   "source": [
    "## View orbital parameters"
   ]
  },
  {
   "cell_type": "code",
   "execution_count": 4,
   "id": "4ed49467",
   "metadata": {},
   "outputs": [
    {
     "name": "stdout",
     "output_type": "stream",
     "text": [
      "iss.tle\n",
      "\n",
      "Orbit =\n",
      "  date = 2021-11-29T11:53:28.588128 UTC\n",
      "  form = tle\n",
      "  frame = TEME\n",
      "  propag = Sgp4\n",
      "  coord =\n",
      "    i = 0.9013578388999515\n",
      "    Ω = 4.2820099854646605\n",
      "    e = 0.0004305\n",
      "    ω = 4.524794011063332\n",
      "    M = 4.778152986599836\n",
      "    n = 0.0011262493475096662\n",
      "\n",
      "kosen-1.tle\n",
      "\n",
      "Orbit =\n",
      "  date = 2021-12-21T03:50:31.765632 UTC\n",
      "  form = tle\n",
      "  frame = TEME\n",
      "  propag = Sgp4\n",
      "  coord =\n",
      "    i = 1.70271878363614\n",
      "    Ω = 0.9368752891780362\n",
      "    e = 0.0025033\n",
      "    ω = 1.835990379989175\n",
      "    M = 4.454169262881381\n",
      "    n = 0.0010929226614158443\n",
      "\n"
     ]
    }
   ],
   "source": [
    "for file in tle_files:\n",
    "    print(file)\n",
    "    print(repr(tle_files[file]))"
   ]
  },
  {
   "cell_type": "markdown",
   "metadata": {},
   "source": [
    "## Calculation"
   ]
  },
  {
   "cell_type": "code",
   "execution_count": 5,
   "metadata": {
    "scrolled": true
   },
   "outputs": [
    {
     "name": "stdout",
     "output_type": "stream",
     "text": [
      "iss.tle\n",
      "Max = 8.785418684926187, Pass = 0\n",
      "Max = 37.306038394521714, Pass = 1\n",
      "kosen-1.tle\n",
      "Max = 34.90285214797211, Pass = 0\n",
      "Max = 25.451336005228605, Pass = 1\n"
     ]
    }
   ],
   "source": [
    "if terminal_output:\n",
    "    print(\"          Time     Elev    Azimuth  Distance Radial Velocity\")\n",
    "    print(\"=========================================================\")\n",
    "    #azimuths, elevations = [[]] * iterations, [[]] * iterations\n",
    "azimuths, elevations = [],[]\n",
    "azimuth, elevation, iteration, maximum_angle = 0, 0, 0, 0\n",
    "first, write = True, False\n",
    "\n",
    "for file in tle_files:\n",
    "    if multiverbose: print(file)\n",
    "    iteration = 0\n",
    "    for orbit in station.visibility(tle_files[file], start=Date.now(), stop=timedelta(days=140), step=timedelta(seconds=timestep), events=True):\n",
    "        #Check if partial orbit\n",
    "        if first and not orbit.event:    \n",
    "            break\n",
    "\n",
    "        #Angle conversion from radians to degrees\n",
    "        elevation = np.degrees(orbit.phi)\n",
    "        azimuth = np.degrees(-orbit.theta) % 360\n",
    "\n",
    "        azimuths.append(azimuth)\n",
    "        elevations.append(90 - elevation)\n",
    "\n",
    "        if elevation > maximum_angle: maximum_angle = elevation\n",
    "\n",
    "        r = orbit.r / 1000 #Convert meters to kilometers\n",
    "\n",
    "        try:\n",
    "            event = event_parser(orbit.event)   \n",
    "        except:\n",
    "            event = \"\"\n",
    "\n",
    "        if first:    \n",
    "            current_src = (instructions_src / file[0:-4]).resolve()\n",
    "            filename = str(orbit.date).replace(\":\", \"-\")[0:-11] + \".csv\"\n",
    "            current_file = (current_src / filename).resolve()\n",
    "\n",
    "            if os.path.exists(current_file):\n",
    "                write = False\n",
    "\n",
    "            if file_output:\n",
    "                f = open(current_file, 'w', encoding='UTF8', newline='')\n",
    "                csv_output = csv.writer(f)\n",
    "                csv_output.writerow(['Time (UTC+0)','Elevation (in ° normal)','Azimuth (in ° N)'])\n",
    "                write = True\n",
    "\n",
    "            first = False\n",
    "\n",
    "        if write:\n",
    "            csv_output.writerow([str(orbit.date)[0:-11],round(elevation,2),round(azimuth,2)])\n",
    "\n",
    "        if terminal_output: print(\"{event:7} {orb.date:%H:%M:%S} {elev:7.1f} {azim:7.1f} {r:10.1f} {orb.r_dot:10.1f}\".format(orb=orbit, r=r, azim=azimuth, elev=elevation, event=event if orbit.event is not None else \"\"))\n",
    "\n",
    "        if orbit.event and orbit.event.info.startswith(\"LOS\"):\n",
    "            first = True\n",
    "            write = False\n",
    "\n",
    "            #Close csv file\n",
    "            try:\n",
    "                f.close()\n",
    "            except Exception as e:\n",
    "                print(e)\n",
    "\n",
    "\n",
    "            if terminal_output: print()\n",
    "            \n",
    "            #Dividers for list seperation\n",
    "            azimuths.append(\"|\")\n",
    "            elevations.append(\"|\")\n",
    "            \n",
    "            #Check for minimum angle\n",
    "            if minimum_angle and round(maximum_angle) < minimum_angle:\n",
    "                os.remove(current_file)\n",
    "                maximum_angle = 0\n",
    "                \n",
    "            else:\n",
    "                if verbose or multiverbose:\n",
    "                    print(\"Max = %s, Pass = %s\"%(maximum_angle,iteration))\n",
    "\n",
    "                iteration += 1\n",
    "                maximum_angle = 0\n",
    "\n",
    "                #Stop after n iterations \n",
    "                if iteration == iterations:\n",
    "                    #Shutdown orbit finder\n",
    "                    iteration = 0\n",
    "                    break\n",
    "\n",
    "            \n",
    "\n",
    "#Out of loop; list seperation\n",
    "try:\n",
    "    azimuths = [list(g) for k,g in groupby(azimuths, key=lambda x: x != '|') if k]\n",
    "    elevations = [list(g) for k,g in groupby(elevations, key=lambda x: x != '|') if k]\n",
    "except:\n",
    "    print(\"error with splitting lists\")"
   ]
  },
  {
   "cell_type": "markdown",
   "id": "a9917f83",
   "metadata": {},
   "source": [
    "## Visualization"
   ]
  },
  {
   "cell_type": "code",
   "execution_count": 6,
   "metadata": {
    "scrolled": false
   },
   "outputs": [
    {
     "data": {
      "image/png": "[encoded data removed]",
      "text/plain": [
       "<Figure size 432x288 with 1 Axes>"
      ]
     },
     "metadata": {
      "needs_background": "light"
     },
     "output_type": "display_data"
    }
   ],
   "source": [
    "plot_polar(azimuths,elevations)"
   ]
  }
 ],
 "metadata": {
  "interpreter": {
   "hash": "f8cccdae3c3799f0ca206dd447474d3b650c2dd095e13996f83e3a01513ad460"
  },
  "kernelspec": {
   "display_name": "Python 3.9.6 64-bit",
   "name": "python3"
  },
  "language_info": {
   "codemirror_mode": {
    "name": "ipython",
    "version": 3
   },
   "file_extension": ".py",
   "mimetype": "text/x-python",
   "name": "python",
   "nbconvert_exporter": "python",
   "pygments_lexer": "ipython3",
   "version": "3.9.7"
  }
 },
 "nbformat": 4,
 "nbformat_minor": 5
}
