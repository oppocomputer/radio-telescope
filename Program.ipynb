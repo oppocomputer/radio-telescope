{
 "cells": [
  {
   "cell_type": "code",
   "execution_count": 1,
   "metadata": {
    "scrolled": false
   },
   "outputs": [],
   "source": [
    "try:\n",
    "    from calculations import *\n",
    "    import sys\n",
    "    import time\n",
    "    import numpy as np\n",
    "    import matplotlib.pyplot as plt\n",
    "    from beyond.dates import Date, timedelta\n",
    "    from beyond.io.tle import Tle\n",
    "    from beyond.frames import create_station\n",
    "    from beyond.config import config\n",
    "except:\n",
    "    import pip\n",
    "    pip.main(['install','beyond'])"
   ]
  },
  {
   "cell_type": "markdown",
   "metadata": {},
   "source": [
    "## Configuration"
   ]
  },
  {
   "cell_type": "code",
   "execution_count": 2,
   "metadata": {},
   "outputs": [],
   "source": [
    "tle_file=\"iss.tle\" #Two line element file location\n",
    "gps = np.array([51.03594,5.72767,34]) #GPS + height in meters\n",
    "timestep = 30 #How many seconds per calculation step?\n",
    "iterations = 3 #How many passes ?\n",
    "minimum_angle = None #FIX\n",
    "terminal_output = True\n",
    "file_output = False #FIX\n",
    "polydegree = 1 #FIX"
   ]
  },
  {
   "cell_type": "code",
   "execution_count": 3,
   "metadata": {},
   "outputs": [],
   "source": [
    "azimuths, elevations = [], [] #Define arrays for storing angles"
   ]
  },
  {
   "cell_type": "code",
   "execution_count": 4,
   "metadata": {},
   "outputs": [],
   "source": [
    "station = create_station('Radio Telescope', gps)"
   ]
  },
  {
   "cell_type": "code",
   "execution_count": 5,
   "metadata": {
    "scrolled": true
   },
   "outputs": [],
   "source": [
    "#Parse the tle file and convert to orbit object\n",
    "tle = Tle(parse_tle(tle_file)).orbit()"
   ]
  },
  {
   "cell_type": "markdown",
   "id": "17da36f9",
   "metadata": {},
   "source": [
    "## View orbital parameters"
   ]
  },
  {
   "cell_type": "code",
   "execution_count": 6,
   "id": "4ed49467",
   "metadata": {},
   "outputs": [
    {
     "name": "stdout",
     "output_type": "stream",
     "text": [
      "\n",
      "Orbit =\n",
      "  date = 2021-11-29T11:53:28.588128 UTC\n",
      "  form = tle\n",
      "  frame = TEME\n",
      "  propag = Sgp4\n",
      "  coord =\n",
      "    i = 0.9013578388999515\n",
      "    Ω = 4.2820099854646605\n",
      "    e = 0.0004305\n",
      "    ω = 4.524794011063332\n",
      "    M = 4.778152986599836\n",
      "    n = 0.0011262493475096662\n",
      "\n"
     ]
    }
   ],
   "source": [
    "print(repr(tle))"
   ]
  },
  {
   "cell_type": "markdown",
   "metadata": {},
   "source": [
    "## Calculation"
   ]
  },
  {
   "cell_type": "code",
   "execution_count": 7,
   "metadata": {
    "scrolled": true
   },
   "outputs": [
    {
     "name": "stdout",
     "output_type": "stream",
     "text": [
      "          Time     Elev    Azimuth  Distance Radial Velocity\n",
      "=========================================================\n",
      "VIS     12:07:10     0.0   141.6     2382.4    -1886.9\n",
      "        12:07:15     0.1   140.7     2372.8    -1786.9\n",
      "        12:07:45     0.5   135.5     2328.0    -1190.7\n",
      "        12:08:15     0.7   130.1     2301.7     -564.9\n",
      "MAX     12:08:41     0.8   125.3     2294.2      -13.1\n",
      "        12:08:45     0.8   124.6     2294.3       75.9\n",
      "        12:09:15     0.7   119.1     2306.2      715.1\n",
      "        12:09:45     0.4   113.7     2337.0     1336.5\n",
      "LOS     12:10:12    -0.0   109.0     2380.0     1865.2\n",
      "\n",
      "VIS     13:39:26     0.0   206.2     2382.9    -6210.0\n",
      "        13:39:45     1.1   204.6     2263.3    -6124.7\n",
      "        13:40:15     2.9   201.8     2082.0    -5956.8\n",
      "        13:40:45     4.8   198.5     1906.5    -5732.2\n",
      "        13:41:15     6.9   194.4     1738.8    -5430.6\n",
      "        13:41:45     9.1   189.5     1581.7    -5024.4\n",
      "        13:42:15    11.3   183.4     1438.7    -4477.7\n",
      "        13:42:45    13.6   176.0     1314.8    -3750.0\n",
      "        13:43:15    15.7   167.0     1215.9    -2807.3\n",
      "        13:43:45    17.3   156.5     1148.6    -1647.5\n",
      "        13:44:15    18.0   144.9     1118.7     -329.9\n",
      "MAX     13:44:23    18.1   142.1     1117.5       -8.3\n",
      "        13:44:45    17.8   133.1     1129.1     1022.8\n",
      "        13:45:15    16.5   122.0     1179.0     2271.2\n",
      "        13:45:45    14.6   112.2     1263.4     3322.6\n",
      "        13:46:15    12.4   104.0     1376.1     4152.2\n",
      "        13:46:45    10.1    97.4     1510.6     4782.2\n",
      "        13:47:15     7.9    91.9     1661.4     5252.3\n",
      "        13:47:45     5.7    87.5     1824.5     5601.3\n",
      "        13:48:15     3.8    83.8     1996.6     5861.0\n",
      "        13:48:45     1.9    80.8     2175.5     6054.9\n",
      "        13:49:15     0.2    78.3     2359.4     6200.2\n",
      "LOS     13:49:18    -0.0    78.1     2376.8     6211.7\n",
      "\n",
      "VIS     15:15:17     0.0   244.5     2380.5    -6871.1\n",
      "        15:15:45     1.8   244.1     2184.5    -6861.9\n",
      "        15:16:15     4.0   243.6     1979.0    -6840.9\n",
      "        15:16:45     6.4   242.9     1774.2    -6803.9\n",
      "        15:17:15     9.2   241.9     1571.0    -6742.8\n",
      "        15:17:45    12.5   240.7     1370.0    -6644.1\n",
      "        15:18:15    16.7   238.9     1172.9    -6482.1\n",
      "        15:18:45    22.0   236.3      982.2    -6205.8\n",
      "        15:19:15    29.4   232.0      802.8    -5707.4\n",
      "        15:19:45    39.7   224.0      644.3    -4754.4\n",
      "        15:20:15    53.4   205.8      526.2    -2929.0\n",
      "        15:20:45    62.6   161.2      479.7      -37.7\n",
      "MAX     15:20:46    62.6   160.6      479.7       -2.6\n",
      "        15:21:15    53.7   116.0      524.2     2871.4\n",
      "        15:21:45    40.0    97.4      640.9     4722.7\n",
      "        15:22:15    29.5    89.3      798.7     5690.6\n",
      "        15:22:45    22.1    85.0      977.8     6196.2\n",
      "        15:23:15    16.7    82.3     1168.2     6475.9\n",
      "        15:23:45    12.6    80.5     1365.2     6639.7\n",
      "        15:24:15     9.2    79.3     1566.0     6739.3\n",
      "        15:24:45     6.4    78.4     1769.2     6800.8\n",
      "        15:25:15     4.0    77.7     1973.8     6838.2\n",
      "        15:25:45     1.9    77.1     2179.3     6859.3\n",
      "LOS     15:26:14    -0.0    76.7     2376.4     6868.6\n",
      "\n"
     ]
    }
   ],
   "source": [
    "print(\"          Time     Elev    Azimuth  Distance Radial Velocity\")\n",
    "print(\"=========================================================\")\n",
    "azimuths, elevations = [[]] * iterations, [[]] * iterations\n",
    "iteration = 0\n",
    "maximum_angle = 0\n",
    "for orbit in station.visibility(tle, start=Date.now(), stop=timedelta(hours=100), step=timedelta(seconds=timestep), events=True):\n",
    "    #Angle conversion from radians to degrees\n",
    "    elevation = np.degrees(orbit.phi)\n",
    "    azimuth = np.degrees(-orbit.theta) % 360\n",
    "    \n",
    "    azimuths[iteration].append(azimuth)\n",
    "    elevations[iteration].append(90 - elevation)\n",
    "\n",
    "    if elevation > maximum_angle: maximum_angle = elevation\n",
    "    \n",
    "    r = orbit.r / 1000.\n",
    "    try:\n",
    "        event = event_parser(orbit.event)   \n",
    "    except:\n",
    "        event = \"\"\n",
    "            \n",
    "\n",
    "\n",
    "    if terminal_output: print(\"{event:7} {orb.date:%H:%M:%S} {elev:7.1f} {azim:7.1f} {r:10.1f} {orb.r_dot:10.1f}\".format(orb=orbit, r=r, azim=azimuth, elev=elevation, event=event if orbit.event is not None else \"\"))\n",
    "    \n",
    "    if orbit.event and orbit.event.info.startswith(\"LOS\"):\n",
    "        \n",
    "        #if file_output:\n",
    "            #filename = Date.now().str + \".csv\"\n",
    "            #file = open(\"test.csv\", 'w')\n",
    "            #file.print(\"hello\")\n",
    "            #file.close()\n",
    "        \n",
    "        print() #Stop after one pass\n",
    "        if minimum_angle and maximum_angle < minimum_angle:\n",
    "            azimuths.pop(iteration)\n",
    "            elevations.pop(iteration)\n",
    "        else:\n",
    "            iteration += 1\n",
    "\n",
    "        maximum_angle = 0\n",
    "        if iteration == iterations: break\n",
    "    \n"
   ]
  },
  {
   "cell_type": "code",
   "execution_count": 8,
   "metadata": {
    "scrolled": false
   },
   "outputs": [
    {
     "name": "stdout",
     "output_type": "stream",
     "text": [
      "Printing pass 0 in color navy\n",
      "Printing pass 1 in color cyan\n",
      "Printing pass 2 in color red\n"
     ]
    },
    {
     "data": {
      "image/png": "[encoded data removed]",
      "text/plain": [
       "<Figure size 432x288 with 1 Axes>"
      ]
     },
     "metadata": {
      "needs_background": "light"
     },
     "output_type": "display_data"
    }
   ],
   "source": [
    "plot_polar(azimuths,elevations,polydegree)"
   ]
  }
 ],
 "metadata": {
  "interpreter": {
   "hash": "f8cccdae3c3799f0ca206dd447474d3b650c2dd095e13996f83e3a01513ad460"
  },
  "kernelspec": {
   "display_name": "Python 3.9.6 64-bit",
   "name": "python3"
  },
  "language_info": {
   "codemirror_mode": {
    "name": "ipython",
    "version": 3
   },
   "file_extension": ".py",
   "mimetype": "text/x-python",
   "name": "python",
   "nbconvert_exporter": "python",
   "pygments_lexer": "ipython3",
   "version": "3.9.6"
  }
 },
 "nbformat": 4,
 "nbformat_minor": 5
}
